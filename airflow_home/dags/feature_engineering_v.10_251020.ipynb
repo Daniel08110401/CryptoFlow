{
 "cells": [
  {
   "cell_type": "code",
   "execution_count": 4,
   "id": "3510377e-8b92-41bc-93b3-378896b55d92",
   "metadata": {},
   "outputs": [],
   "source": [
    "import pandas as pd\n",
    "from sqlalchemy import create_engine\n",
    "import os\n",
    "import matplotlib.pyplot as plt\n",
    "import seaborn as sns\n",
    "\n",
    "# Docker Compose 환경 변수에서 DB 접속 정보 읽기\n",
    "# Airflow 컨테이너 내부이므로, settings.py 대신 os.environ 직접 사용 가능\n",
    "db_user = os.environ.get(\"POSTGRES_USER\", \"crypto\")\n",
    "db_password = os.environ.get(\"POSTGRES_PASSWORD\", \"crypto\")\n",
    "db_host = \"postgres\" # docker-compose.yml의 서비스 이름 사용\n",
    "db_name = os.environ.get(\"POSTGRES_DB\", \"cryptoflow\")\n",
    "\n",
    "# SQLAlchemy를 사용하여 PostgreSQL 연결 엔진 생성\n",
    "engine = create_engine(f\"postgresql+psycopg2://{db_user}:{db_password}@{db_host}:5432/{db_name}\")"
   ]
  },
  {
   "cell_type": "code",
   "execution_count": 5,
   "id": "132d4704-dcfd-4778-aa64-d672ba0b0b39",
   "metadata": {},
   "outputs": [
    {
     "name": "stdout",
     "output_type": "stream",
     "text": [
      "--- 1. 데이터 로딩 시작 ---\n",
      "데이터 레이크 로드 완료: 50 행\n",
      "                                                 payload    endpoint  \\\n",
      "id                                                                     \n",
      "10739  {'change': 'FALL', 'market': 'KRW-BTC', 'low_p...  /v1/ticker   \n",
      "10524  {'change': 'FALL', 'market': 'KRW-BTC', 'low_p...  /v1/ticker   \n",
      "10309  {'change': 'FALL', 'market': 'KRW-BTC', 'low_p...  /v1/ticker   \n",
      "10094  {'change': 'FALL', 'market': 'KRW-BTC', 'low_p...  /v1/ticker   \n",
      "9879   {'change': 'FALL', 'market': 'KRW-BTC', 'low_p...  /v1/ticker   \n",
      "\n",
      "                           ingested_at  \n",
      "id                                      \n",
      "10739 2025-10-14 11:21:09.852717+00:00  \n",
      "10524 2025-10-14 11:21:04.023313+00:00  \n",
      "10309 2025-10-14 11:18:20.265180+00:00  \n",
      "10094 2025-10-14 11:18:09.463469+00:00  \n",
      "9879  2025-10-13 17:20:02.150627+00:00  \n",
      "<class 'pandas.core.frame.DataFrame'>\n",
      "Index: 50 entries, 10739 to 204\n",
      "Data columns (total 3 columns):\n",
      " #   Column       Non-Null Count  Dtype              \n",
      "---  ------       --------------  -----              \n",
      " 0   payload      50 non-null     object             \n",
      " 1   endpoint     50 non-null     object             \n",
      " 2   ingested_at  50 non-null     datetime64[ns, UTC]\n",
      "dtypes: datetime64[ns, UTC](1), object(2)\n",
      "memory usage: 1.6+ KB\n",
      "None\n"
     ]
    },
    {
     "name": "stderr",
     "output_type": "stream",
     "text": [
      "WARNING:  database \"cryptoflow\" has a collation version mismatch\n",
      "DETAIL:  The database was created using collation version 2.36, but the operating system provides version 2.41.\n",
      "HINT:  Rebuild all objects in this database that use the default collation and run ALTER DATABASE cryptoflow REFRESH COLLATION VERSION, or build PostgreSQL with the right library version.\n"
     ]
    }
   ],
   "source": [
    "# 1. 데이터 로딩 (from Data Lake)\n",
    "print(\"--- 1. 데이터 로딩 시작 ---\")\n",
    "\n",
    "# 데이터 레이크에서 KRW-BTC Ticker 데이터만 조회\n",
    "# 데이터가 너무 많을 수 있으므로, 최근 1주일(예시) 데이터만 가져오도록 LIMIT 설정 가능\n",
    "# ORDER BY ingested_at DESC LIMIT (144 * 7) --> 10분 간격 * 24시간 * 7일\n",
    "sql_query_lake = \"\"\"\n",
    "SELECT \n",
    "    id, \n",
    "    payload, \n",
    "    endpoint, \n",
    "    ingested_at \n",
    "FROM \n",
    "    upbit_api_raw_data_landing \n",
    "WHERE \n",
    "    endpoint = '/v1/ticker' \n",
    "    AND payload ->> 'market' = 'KRW-BTC' -- KRW-BTC 데이터만 필터링\n",
    "ORDER BY \n",
    "    ingested_at DESC -- 최신 데이터부터 가져오기 (필요시 LIMIT 추가)\n",
    "-- LIMIT 1008 -- 예: 최근 1주일 데이터만 가져오려면 주석 해제 (144 * 7 = 1008)\n",
    "\"\"\"\n",
    "\n",
    "# JSONB를 포함한 데이터를 Pandas DataFrame으로 읽어오기\n",
    "# json_normalize를 사용하여 중첩된 JSON 구조를 펼칠 수도 있지만,\n",
    "# 여기서는 필요한 컬럼만 직접 추출하는 방식으로 진행\n",
    "df_raw_btc = pd.read_sql(sql_query_lake, engine, index_col='id')\n",
    "\n",
    "print(f\"데이터 레이크 로드 완료: {len(df_raw_btc)} 행\")\n",
    "\n",
    "# 데이터 확인\n",
    "print(df_raw_btc.head())\n",
    "print(df_raw_btc.info())"
   ]
  },
  {
   "cell_type": "code",
   "execution_count": null,
   "id": "4f1edd8c-06b8-49ac-a785-742e386c91d5",
   "metadata": {},
   "outputs": [],
   "source": []
  }
 ],
 "metadata": {
  "kernelspec": {
   "display_name": "Python 3 (ipykernel)",
   "language": "python",
   "name": "python3"
  },
  "language_info": {
   "codemirror_mode": {
    "name": "ipython",
    "version": 3
   },
   "file_extension": ".py",
   "mimetype": "text/x-python",
   "name": "python",
   "nbconvert_exporter": "python",
   "pygments_lexer": "ipython3",
   "version": "3.8.17"
  }
 },
 "nbformat": 4,
 "nbformat_minor": 5
}
